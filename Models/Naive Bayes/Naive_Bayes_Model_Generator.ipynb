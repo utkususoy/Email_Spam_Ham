{
 "cells": [
  {
   "cell_type": "code",
   "execution_count": 1,
   "id": "07b6c368",
   "metadata": {},
   "outputs": [],
   "source": [
    "from sklearn.feature_extraction.text import TfidfVectorizer, CountVectorizer\n",
    "\n",
    "from sklearn import naive_bayes\n",
    "import pandas as pd"
   ]
  },
  {
   "cell_type": "code",
   "execution_count": 2,
   "id": "7dc36b50",
   "metadata": {},
   "outputs": [],
   "source": [
    "from sklearn.metrics import precision_recall_fscore_support as score\n",
    "\n",
    "def generate_naive_bayes_model(X_train, X_test, y_train, y_test):\n",
    "    Naive = naive_bayes.MultinomialNB()\n",
    "    Naive_base_model = Naive.fit(X_train, y_train)\n",
    "    \n",
    "    y_pred = Naive_base_model.predict(X_test)\n",
    "    precision, recall, fscore, support = score(y_test, y_pred, pos_label='Spam', average='binary')\n",
    "    acc = round((y_pred == y_test).sum() / len(y_pred), 3)\n",
    "    return Naive_base_model, precision, recall, acc"
   ]
  },
  {
   "cell_type": "code",
   "execution_count": null,
   "id": "0d753454",
   "metadata": {},
   "outputs": [],
   "source": []
  },
  {
   "cell_type": "code",
   "execution_count": null,
   "id": "a103a34a",
   "metadata": {},
   "outputs": [],
   "source": []
  }
 ],
 "metadata": {
  "kernelspec": {
   "display_name": "Python [conda env:tensorflow] *",
   "language": "python",
   "name": "conda-env-tensorflow-py"
  },
  "language_info": {
   "codemirror_mode": {
    "name": "ipython",
    "version": 3
   },
   "file_extension": ".py",
   "mimetype": "text/x-python",
   "name": "python",
   "nbconvert_exporter": "python",
   "pygments_lexer": "ipython3",
   "version": "3.8.12"
  }
 },
 "nbformat": 4,
 "nbformat_minor": 5
}
