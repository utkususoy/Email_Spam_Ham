{
 "cells": [
  {
   "cell_type": "code",
   "execution_count": 2,
   "id": "24dbe17c",
   "metadata": {},
   "outputs": [],
   "source": [
    "import string\n",
    "import nltk\n",
    "import re"
   ]
  },
  {
   "cell_type": "code",
   "execution_count": 3,
   "id": "5a6210b0",
   "metadata": {},
   "outputs": [],
   "source": [
    "stop_words = nltk.corpus.stopwords.words('english')\n",
    "ps = nltk.PorterStemmer()\n",
    "wnlemma = nltk.WordNetLemmatizer()\n",
    "\n",
    "def clean_text(text, digit_opt, return_type, root_opt):\n",
    "    tokens = nltk.word_tokenize(text)\n",
    "    tokens = [w.lower() for w in tokens]\n",
    "#    print('Before --> {}'.format(tokens))\n",
    "    if digit_opt == 'remove':\n",
    "        tokens = [''.join([c for c in w if not c.isdigit()]) for w in tokens]\n",
    "    if digit_opt == 'mask':\n",
    "        tokens = ['digit' if w.isdigit() == True else w for w in tokens]\n",
    "#        print('After --> {}'.format(tokens))\n",
    "    re_punct = re.compile('[%s]' % re.escape(string.punctuation))\n",
    "    tokens = [re_punct.sub('', w) for w in tokens]\n",
    "    \n",
    "    if root_opt == 'stemming':\n",
    "        tokens = [ps.stem(w) for w in tokens if len(w) > 2]\n",
    "    else:\n",
    "        tokens = [wnlemma.lemmatize(w) for w in tokens if len(w) > 2]\n",
    "    if return_type == 'sentence':\n",
    "        return ' '.join(tokens)\n",
    "    else:\n",
    "        return tokens"
   ]
  },
  {
   "cell_type": "code",
   "execution_count": null,
   "id": "e66d0768",
   "metadata": {},
   "outputs": [],
   "source": []
  }
 ],
 "metadata": {
  "kernelspec": {
   "display_name": "Python [conda env:tensorflow] *",
   "language": "python",
   "name": "conda-env-tensorflow-py"
  },
  "language_info": {
   "codemirror_mode": {
    "name": "ipython",
    "version": 3
   },
   "file_extension": ".py",
   "mimetype": "text/x-python",
   "name": "python",
   "nbconvert_exporter": "python",
   "pygments_lexer": "ipython3",
   "version": "3.8.12"
  }
 },
 "nbformat": 4,
 "nbformat_minor": 5
}
