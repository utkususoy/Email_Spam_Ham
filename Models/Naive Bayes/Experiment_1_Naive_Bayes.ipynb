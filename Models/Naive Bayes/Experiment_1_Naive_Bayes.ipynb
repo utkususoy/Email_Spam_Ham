{
 "cells": [
  {
   "cell_type": "code",
   "execution_count": 1,
   "id": "03eb8be0",
   "metadata": {},
   "outputs": [],
   "source": [
    "import pandas as pd\n",
    "import numpy as np\n",
    "import string\n",
    "import re\n",
    "import nltk\n",
    "import ipynb.fs.full.TextCleaner as cleaner\n",
    "import ipynb.fs.full.Naive_Bayes_Model_Generator as model_generator\n",
    "from sklearn.feature_extraction.text import TfidfVectorizer, CountVectorizer\n",
    "from sklearn.model_selection import train_test_split"
   ]
  },
  {
   "cell_type": "code",
   "execution_count": 2,
   "id": "aa438149",
   "metadata": {},
   "outputs": [],
   "source": [
    "np.random.seed(500)"
   ]
  },
  {
   "cell_type": "code",
   "execution_count": 3,
   "id": "bf0408a3",
   "metadata": {},
   "outputs": [
    {
     "name": "stdout",
     "output_type": "stream",
     "text": [
      "1082\n"
     ]
    },
    {
     "data": {
      "text/html": [
       "<div>\n",
       "<style scoped>\n",
       "    .dataframe tbody tr th:only-of-type {\n",
       "        vertical-align: middle;\n",
       "    }\n",
       "\n",
       "    .dataframe tbody tr th {\n",
       "        vertical-align: top;\n",
       "    }\n",
       "\n",
       "    .dataframe thead th {\n",
       "        text-align: right;\n",
       "    }\n",
       "</style>\n",
       "<table border=\"1\" class=\"dataframe\">\n",
       "  <thead>\n",
       "    <tr style=\"text-align: right;\">\n",
       "      <th></th>\n",
       "      <th>Message_body</th>\n",
       "      <th>Label</th>\n",
       "    </tr>\n",
       "  </thead>\n",
       "  <tbody>\n",
       "    <tr>\n",
       "      <th>0</th>\n",
       "      <td>UpgrdCentre Orange customer, you may now claim...</td>\n",
       "      <td>Spam</td>\n",
       "    </tr>\n",
       "    <tr>\n",
       "      <th>1</th>\n",
       "      <td>Loan for any purpose £500 - £75,000. Homeowner...</td>\n",
       "      <td>Spam</td>\n",
       "    </tr>\n",
       "    <tr>\n",
       "      <th>2</th>\n",
       "      <td>Congrats! Nokia 3650 video camera phone is you...</td>\n",
       "      <td>Spam</td>\n",
       "    </tr>\n",
       "    <tr>\n",
       "      <th>3</th>\n",
       "      <td>URGENT! Your Mobile number has been awarded wi...</td>\n",
       "      <td>Spam</td>\n",
       "    </tr>\n",
       "    <tr>\n",
       "      <th>4</th>\n",
       "      <td>Someone has contacted our dating service and e...</td>\n",
       "      <td>Spam</td>\n",
       "    </tr>\n",
       "  </tbody>\n",
       "</table>\n",
       "</div>"
      ],
      "text/plain": [
       "                                        Message_body Label\n",
       "0  UpgrdCentre Orange customer, you may now claim...  Spam\n",
       "1  Loan for any purpose £500 - £75,000. Homeowner...  Spam\n",
       "2  Congrats! Nokia 3650 video camera phone is you...  Spam\n",
       "3  URGENT! Your Mobile number has been awarded wi...  Spam\n",
       "4  Someone has contacted our dating service and e...  Spam"
      ]
     },
     "execution_count": 3,
     "metadata": {},
     "output_type": "execute_result"
    }
   ],
   "source": [
    "# Load Dataset\n",
    "\n",
    "DATASET_DIR = '../../Dataset/big_spam_dataset.csv'\n",
    "\n",
    "data = pd.read_csv(DATASET_DIR, encoding='cp1252')\n",
    "data.drop(labels=['Unnamed: 0'], inplace=True, axis=1)\n",
    "print(len(data))\n",
    "data.head()"
   ]
  },
  {
   "cell_type": "code",
   "execution_count": 4,
   "id": "bb7f0e35",
   "metadata": {},
   "outputs": [
    {
     "data": {
      "text/html": [
       "<div>\n",
       "<style scoped>\n",
       "    .dataframe tbody tr th:only-of-type {\n",
       "        vertical-align: middle;\n",
       "    }\n",
       "\n",
       "    .dataframe tbody tr th {\n",
       "        vertical-align: top;\n",
       "    }\n",
       "\n",
       "    .dataframe thead th {\n",
       "        text-align: right;\n",
       "    }\n",
       "</style>\n",
       "<table border=\"1\" class=\"dataframe\">\n",
       "  <thead>\n",
       "    <tr style=\"text-align: right;\">\n",
       "      <th></th>\n",
       "      <th>Message_body</th>\n",
       "      <th>Label</th>\n",
       "      <th>body_len</th>\n",
       "      <th>punct%</th>\n",
       "    </tr>\n",
       "  </thead>\n",
       "  <tbody>\n",
       "    <tr>\n",
       "      <th>0</th>\n",
       "      <td>UpgrdCentre Orange customer, you may now claim...</td>\n",
       "      <td>Spam</td>\n",
       "      <td>147</td>\n",
       "      <td>0.054</td>\n",
       "    </tr>\n",
       "    <tr>\n",
       "      <th>1</th>\n",
       "      <td>Loan for any purpose £500 - £75,000. Homeowner...</td>\n",
       "      <td>Spam</td>\n",
       "      <td>135</td>\n",
       "      <td>0.067</td>\n",
       "    </tr>\n",
       "    <tr>\n",
       "      <th>2</th>\n",
       "      <td>Congrats! Nokia 3650 video camera phone is you...</td>\n",
       "      <td>Spam</td>\n",
       "      <td>132</td>\n",
       "      <td>0.015</td>\n",
       "    </tr>\n",
       "    <tr>\n",
       "      <th>3</th>\n",
       "      <td>URGENT! Your Mobile number has been awarded wi...</td>\n",
       "      <td>Spam</td>\n",
       "      <td>115</td>\n",
       "      <td>0.035</td>\n",
       "    </tr>\n",
       "    <tr>\n",
       "      <th>4</th>\n",
       "      <td>Someone has contacted our dating service and e...</td>\n",
       "      <td>Spam</td>\n",
       "      <td>136</td>\n",
       "      <td>0.015</td>\n",
       "    </tr>\n",
       "  </tbody>\n",
       "</table>\n",
       "</div>"
      ],
      "text/plain": [
       "                                        Message_body Label  body_len  punct%\n",
       "0  UpgrdCentre Orange customer, you may now claim...  Spam       147   0.054\n",
       "1  Loan for any purpose £500 - £75,000. Homeowner...  Spam       135   0.067\n",
       "2  Congrats! Nokia 3650 video camera phone is you...  Spam       132   0.015\n",
       "3  URGENT! Your Mobile number has been awarded wi...  Spam       115   0.035\n",
       "4  Someone has contacted our dating service and e...  Spam       136   0.015"
      ]
     },
     "execution_count": 4,
     "metadata": {},
     "output_type": "execute_result"
    }
   ],
   "source": [
    "# Feature Engineering\n",
    "\n",
    "# Create new features (Feature Engineering)\n",
    "\n",
    "def count_punct(text):\n",
    "    count = sum([1 for char in text if char in string.punctuation])\n",
    "    return round(count / (len(text) - text.count(\" \")), 3)\n",
    "\n",
    "data['body_len'] = data['Message_body'].apply(lambda x: len(x) - x.count(' '))\n",
    "data['punct%'] = data['Message_body'].apply(lambda x: count_punct(x))\n",
    "\n",
    "data.head()"
   ]
  },
  {
   "cell_type": "code",
   "execution_count": 5,
   "id": "968b1e5c",
   "metadata": {},
   "outputs": [],
   "source": [
    "# Split Train and Test sets\n",
    "\n",
    "# No feature Engineering\n",
    "X_train, X_test, y_train, y_test = train_test_split(data[['Message_body']], data['Label'], test_size=0.2)\n",
    "\n",
    "#Split with Feature Engineered features\n",
    "X_feat_train, X_feat_test, y_feat_train, y_feat_test = train_test_split(data[['Message_body', 'body_len', 'punct%']],\n",
    "                                                                        data['Label'], test_size=0.2)"
   ]
  },
  {
   "cell_type": "code",
   "execution_count": 6,
   "id": "26049298",
   "metadata": {},
   "outputs": [],
   "source": [
    "# Text Cleaning\n",
    "\n",
    "# Stemming\n",
    "\n",
    "X_train_processed = X_train['Message_body'].apply(lambda x: cleaner.clean_text(x, digit_opt='remove', \n",
    "                                                                                  root_opt= 'stemming', \n",
    "                                                                                  return_type='sentence'))\n",
    "\n",
    "X_test_processed = X_test['Message_body'].apply(lambda x: cleaner.clean_text(x, digit_opt='remove', \n",
    "                                                                                  root_opt= 'stemming', \n",
    "                                                                                  return_type='sentence'))\n",
    "\n"
   ]
  },
  {
   "cell_type": "code",
   "execution_count": null,
   "id": "33ca43f0",
   "metadata": {},
   "outputs": [],
   "source": []
  },
  {
   "cell_type": "code",
   "execution_count": 7,
   "id": "61743abf",
   "metadata": {},
   "outputs": [],
   "source": [
    "# TF-IDF - base \n",
    "\n",
    "tfidf_vect = TfidfVectorizer()\n",
    "tfidf_vect_fit = tfidf_vect.fit(X_train_processed)\n",
    "\n",
    "tfidf_train = tfidf_vect_fit.transform(X_train_processed)\n",
    "tfidf_test = tfidf_vect_fit.transform(X_test_processed)\n",
    "\n",
    "X_train_tfidf_vect = pd.concat([X_feat_train[['body_len', 'punct%']].reset_index(drop=True), \n",
    "           pd.DataFrame(tfidf_train.toarray())], axis=1)\n",
    "\n",
    "X_test_tfidf_vect = pd.concat([X_feat_test[['body_len', 'punct%']].reset_index(drop=True), \n",
    "           pd.DataFrame(tfidf_test.toarray())], axis=1)\n",
    "\n",
    "# CountVectorizer - base\n",
    "count_vect = CountVectorizer()\n",
    "X_count_vect_fit = count_vect.fit(X_train_processed)\n",
    "\n",
    "count_train = X_count_vect_fit.transform(X_train_processed)\n",
    "count_test = X_count_vect_fit.transform(X_test_processed)\n",
    "\n",
    "X_train_count_vect = pd.concat([X_feat_train[['body_len', 'punct%']].reset_index(drop=True),\n",
    "                               pd.DataFrame(count_train.toarray())], axis=1)\n",
    "\n",
    "X_test_count_vect = pd.concat([X_feat_test[['body_len', 'punct%']].reset_index(drop=True),\n",
    "                               pd.DataFrame(count_test.toarray())], axis=1)\n",
    "\n",
    "# n-gram - base\n",
    "ngram_vect = CountVectorizer(ngram_range=(1,3))\n",
    "X_ngram_fit = ngram_vect.fit(X_train_processed)\n",
    "\n",
    "ngram_train = X_ngram_fit.transform(X_train_processed)\n",
    "ngram_test = X_ngram_fit.transform(X_test_processed)\n",
    "\n",
    "X_train_ngram_vect = pd.concat([X_feat_train[['body_len', 'punct%']].reset_index(drop=True),\n",
    "                               pd.DataFrame(ngram_train.toarray())], axis=1)\n",
    "\n",
    "X_test_ngram_vect = pd.concat([X_feat_test[['body_len', 'punct%']].reset_index(drop=True),\n",
    "                               pd.DataFrame(ngram_test.toarray())], axis=1)"
   ]
  },
  {
   "cell_type": "code",
   "execution_count": 8,
   "id": "5a46512f",
   "metadata": {},
   "outputs": [
    {
     "name": "stderr",
     "output_type": "stream",
     "text": [
      "/opt/miniconda3/envs/tensorflow/lib/python3.8/site-packages/sklearn/utils/validation.py:1675: FutureWarning: Feature names only support names that are all strings. Got feature names with dtypes: ['int', 'str']. An error will be raised in 1.2.\n",
      "  warnings.warn(\n",
      "/opt/miniconda3/envs/tensorflow/lib/python3.8/site-packages/sklearn/utils/validation.py:1675: FutureWarning: Feature names only support names that are all strings. Got feature names with dtypes: ['int', 'str']. An error will be raised in 1.2.\n",
      "  warnings.warn(\n",
      "/opt/miniconda3/envs/tensorflow/lib/python3.8/site-packages/sklearn/utils/validation.py:1675: FutureWarning: Feature names only support names that are all strings. Got feature names with dtypes: ['int', 'str']. An error will be raised in 1.2.\n",
      "  warnings.warn(\n"
     ]
    },
    {
     "name": "stdout",
     "output_type": "stream",
     "text": [
      "TF-IDF vectorized / Stemming\n",
      "Precision: 1.0 / Recall: 0.514 / Acuracy: 0.922\n",
      "Count vectorized / Stemming\n",
      "Precision: 1.0 / Recall: 0.514 / Acuracy: 0.922\n"
     ]
    },
    {
     "name": "stderr",
     "output_type": "stream",
     "text": [
      "/opt/miniconda3/envs/tensorflow/lib/python3.8/site-packages/sklearn/utils/validation.py:1675: FutureWarning: Feature names only support names that are all strings. Got feature names with dtypes: ['int', 'str']. An error will be raised in 1.2.\n",
      "  warnings.warn(\n"
     ]
    }
   ],
   "source": [
    "# TF-IDF \n",
    "\n",
    "Naive_base_model, precision, recall, accuracy = model_generator.generate_naive_bayes_model(X_train_ngram_vect, \n",
    "                                                                                           X_test_ngram_vect, \n",
    "                                                                                           y_train, y_test)\n",
    "print('TF-IDF vectorized / Stemming')\n",
    "print('Precision: {} / Recall: {} / Acuracy: {}'.format(round(precision, 3),\n",
    "                                                       round(recall, 3),\n",
    "                                                       accuracy))\n",
    "# Count-Vectorizer\n",
    "\n",
    "Naive_base_model, precision, recall, accuracy = model_generator.generate_naive_bayes_model(X_train_ngram_vect, \n",
    "                                                                                           X_test_ngram_vect, \n",
    "                                                                                           y_train, y_test)\n",
    "print('Count vectorized / Stemming')\n",
    "print('Precision: {} / Recall: {} / Acuracy: {}'.format(round(precision, 3),\n",
    "                                                       round(recall, 3),\n",
    "                                                       accuracy))"
   ]
  },
  {
   "cell_type": "code",
   "execution_count": null,
   "id": "f3cd37fc",
   "metadata": {},
   "outputs": [],
   "source": []
  },
  {
   "cell_type": "code",
   "execution_count": null,
   "id": "18641b8c",
   "metadata": {},
   "outputs": [],
   "source": []
  },
  {
   "cell_type": "code",
   "execution_count": null,
   "id": "b6087310",
   "metadata": {},
   "outputs": [],
   "source": []
  },
  {
   "cell_type": "code",
   "execution_count": null,
   "id": "ba1d9c1d",
   "metadata": {},
   "outputs": [],
   "source": []
  },
  {
   "cell_type": "code",
   "execution_count": null,
   "id": "a4712653",
   "metadata": {},
   "outputs": [],
   "source": []
  },
  {
   "cell_type": "code",
   "execution_count": null,
   "id": "b6eb8f3b",
   "metadata": {},
   "outputs": [],
   "source": []
  },
  {
   "cell_type": "code",
   "execution_count": null,
   "id": "3d95f966",
   "metadata": {},
   "outputs": [],
   "source": []
  }
 ],
 "metadata": {
  "kernelspec": {
   "display_name": "Python [conda env:tensorflow] *",
   "language": "python",
   "name": "conda-env-tensorflow-py"
  },
  "language_info": {
   "codemirror_mode": {
    "name": "ipython",
    "version": 3
   },
   "file_extension": ".py",
   "mimetype": "text/x-python",
   "name": "python",
   "nbconvert_exporter": "python",
   "pygments_lexer": "ipython3",
   "version": "3.8.12"
  }
 },
 "nbformat": 4,
 "nbformat_minor": 5
}
